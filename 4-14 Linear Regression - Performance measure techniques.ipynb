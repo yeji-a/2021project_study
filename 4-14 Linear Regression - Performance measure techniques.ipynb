{
 "cells": [
  {
   "cell_type": "markdown",
   "metadata": {},
   "source": [
    "### General ML Process Training / Test Set"
   ]
  },
  {
   "cell_type": "markdown",
   "metadata": {},
   "source": [
    "### Holdout Method (sampling)\n",
    "- 데이터를 Training과 Test로 나누어 모델을 생성하고 테스트하는 기법\n",
    "- 가장 일반적인 모델 생성을 위한 데이터 랜덤 샘플링 기법\n",
    "- Training과 Test를 나누는 비율은 데이터의 크기에 따라 다름"
   ]
  },
  {
   "cell_type": "code",
   "execution_count": 2,
   "metadata": {},
   "outputs": [],
   "source": [
    "import numpy as np\n",
    "from sklearn.model_selection import train_test_split\n",
    "\n",
    "X,y = np.arange(10).reshape((5,2)), range(5)\n",
    "X_train, X_test, y_train, y_test = train_test_split(X,y, test_size=0.33,random_state=42)"
   ]
  },
  {
   "cell_type": "markdown",
   "metadata": {},
   "source": [
    "### 성능 측정을 위해 데이터를 나누는 방법\n",
    "- Training - Validation - Test // 6 - 2 - 2\n",
    "- Training : Model Building\n",
    "- Validation : Model Check\n",
    "- Test : Model Evaluation"
   ]
  },
  {
   "cell_type": "markdown",
   "metadata": {},
   "source": [
    "### Validation Set\n",
    "- Test Set은 Model 생성시 절대 Training Set에 포함되지 않아야 함\n",
    "- Test Set과 달리 Model 생성시 Model에 성능을 평가하기 위해 사용\n",
    "- Hyper Parameter Turning시 성능평가를 통해 Overfitting 방지\n",
    "- Training 중간에 Model의 성능을 점검"
   ]
  },
  {
   "cell_type": "markdown",
   "metadata": {},
   "source": [
    "### K-fold cross validation\n",
    "- 학습 데이터를 K번 나눠서 Test와 Train을 실시 -> Test의 평균값을 사용\n",
    "- 모델의 Parameter 튜닝, 간단한 모델의 최종 성능 측정 등 사용\n",
    "- cross_val_score 함수로, 한번에 해결 가능\n",
    "- sklearn은 pipeline 등을 위해 \"High is better\"로 처리 -> MSE를 Negative로 변환 (큰 값이 더 좋은 값)\n",
    "- 이로인해 RMSE를 지원하지 않음"
   ]
  },
  {
   "cell_type": "code",
   "execution_count": null,
   "metadata": {},
   "outputs": [],
   "source": [
    "from sklearn.model_selection import KFold\n",
    "\n",
    "kf = KFold(n_splits=10, shuffle=True)\n",
    "\n",
    "for train_index, test_index in kf.split(X):\n",
    "    print(\"TRAIN - \", train_index[:10])\n",
    "    print(\"TEST - \", test_index[:10])"
   ]
  },
  {
   "cell_type": "code",
   "execution_count": null,
   "metadata": {},
   "outputs": [],
   "source": [
    "from sklearn.model_selection import cross_validate\n",
    "from sklearn.linear_model import Lasso, Ridge\n",
    "from sklearn.metrics import mean_squared_error\n",
    "kf = KFold(n_splits=10, shuffle=True)\n",
    "lasso_regressor = Lasso(warm_start=False)\n",
    "ridge_regressor = Ridge()\n",
    "\n",
    "lasso_mse = []\n",
    "ridge_mse = []\n",
    "\n",
    "for train_index, test_index in kf.split(X):\n",
    "    lasso_regressor.fit(X[train_index], y[train_index])\n",
    "    ridge_regressor.fit(X[train_index], y[train_index])\n",
    "    \n",
    "    lasso_mse.append(mean_squared_error(y[test_index], lasso_regressor.predict(X[test_index])))\n",
    "    ridge_mse.append(mean_squared_error(y[test_index], ridge_regressor.predict(X[test_index])))"
   ]
  },
  {
   "cell_type": "code",
   "execution_count": null,
   "metadata": {},
   "outputs": [],
   "source": [
    "sum(lasso_mse) / 10 , sum(ridge_mse) / 10"
   ]
  },
  {
   "cell_type": "code",
   "execution_count": null,
   "metadata": {},
   "outputs": [],
   "source": []
  },
  {
   "cell_type": "code",
   "execution_count": 4,
   "metadata": {},
   "outputs": [],
   "source": [
    "from sklearn import datasets\n",
    "boston = datasets.load_boston()"
   ]
  },
  {
   "cell_type": "code",
   "execution_count": 5,
   "metadata": {},
   "outputs": [],
   "source": [
    "X = boston.data\n",
    "y = boston.target"
   ]
  },
  {
   "cell_type": "code",
   "execution_count": 6,
   "metadata": {},
   "outputs": [
    {
     "name": "stdout",
     "output_type": "stream",
     "text": [
      "TRAIN -  455\n",
      "TEST -  51\n",
      "TRAIN -  455\n",
      "TEST -  51\n",
      "TRAIN -  455\n",
      "TEST -  51\n",
      "TRAIN -  455\n",
      "TEST -  51\n",
      "TRAIN -  455\n",
      "TEST -  51\n",
      "TRAIN -  455\n",
      "TEST -  51\n",
      "TRAIN -  456\n",
      "TEST -  50\n",
      "TRAIN -  456\n",
      "TEST -  50\n",
      "TRAIN -  456\n",
      "TEST -  50\n",
      "TRAIN -  456\n",
      "TEST -  50\n"
     ]
    }
   ],
   "source": [
    "from sklearn.model_selection import KFold\n",
    "\n",
    "kf = KFold(n_splits = 10, shuffle = True)\n",
    "\n",
    "for train_index, test_index in kf.split(X):\n",
    "    print(\"TRAIN - \", len(train_index))\n",
    "    print(\"TEST - \", len(test_index))"
   ]
  },
  {
   "cell_type": "code",
   "execution_count": 7,
   "metadata": {},
   "outputs": [
    {
     "data": {
      "text/plain": [
       "(34.46809883780112, 34.135235282917215)"
      ]
     },
     "execution_count": 7,
     "metadata": {},
     "output_type": "execute_result"
    }
   ],
   "source": [
    "from sklearn.linear_model import Lasso, Ridge\n",
    "from sklearn.metrics import mean_squared_error\n",
    "kf = KFold(n_splits=10)\n",
    "lasso_regressor = Lasso()\n",
    "ridge_regressor = Ridge()\n",
    "\n",
    "lasso_mse = []\n",
    "ridge_mse = []\n",
    "\n",
    "for train_index, test_index in kf.split(X):\n",
    "    lasso_regressor.fit(X[train_index],y[train_index])\n",
    "    ridge_regressor.fit(X[train_index], y[train_index])\n",
    "    \n",
    "    lasso_mse.append(mean_squared_error(y[test_index], lasso_regressor.predict(X[test_index])))\n",
    "    ridge_mse.append(mean_squared_error(y[test_index], ridge_regressor.predict(X[test_index])))\n",
    "    \n",
    "sum(lasso_mse) / 10 , sum(ridge_mse) / 10"
   ]
  },
  {
   "cell_type": "code",
   "execution_count": 9,
   "metadata": {},
   "outputs": [
    {
     "name": "stdout",
     "output_type": "stream",
     "text": [
      "(456, 13)\n"
     ]
    }
   ],
   "source": [
    "print(X[train_index].shape) # two dimensional"
   ]
  },
  {
   "cell_type": "code",
   "execution_count": 11,
   "metadata": {},
   "outputs": [
    {
     "data": {
      "text/plain": [
       "(-34.46809883780112, -34.13523528291722)"
      ]
     },
     "execution_count": 11,
     "metadata": {},
     "output_type": "execute_result"
    }
   ],
   "source": [
    "from sklearn.model_selection import cross_val_score\n",
    "import numpy as np\n",
    "\n",
    "lasso_regressor = Lasso(warm_start=False)\n",
    "ridge_regressor = Ridge()\n",
    "\n",
    "lasso_scores = cross_val_score(lasso_regressor,X,y,cv=10,scoring=\"neg_mean_squared_error\")\n",
    "ridge_scores = cross_val_score(ridge_regressor,X,y,cv=10,scoring=\"neg_mean_squared_error\")\n",
    "np.mean(lasso_scores), np.mean(ridge_scores)"
   ]
  },
  {
   "cell_type": "code",
   "execution_count": 12,
   "metadata": {
    "scrolled": true
   },
   "outputs": [
    {
     "data": {
      "text/plain": [
       "array([ -11.76550876,  -17.88254102,  -10.52975553,  -60.79007952,\n",
       "        -46.7759819 ,  -40.76705647,  -17.313559  , -102.67749124,\n",
       "        -22.86943714,  -13.30957779])"
      ]
     },
     "execution_count": 12,
     "metadata": {},
     "output_type": "execute_result"
    }
   ],
   "source": [
    "lasso_scores # Test값을 10번 넣어주게 됨"
   ]
  },
  {
   "cell_type": "code",
   "execution_count": null,
   "metadata": {},
   "outputs": [],
   "source": []
  },
  {
   "cell_type": "markdown",
   "metadata": {},
   "source": [
    "### Leave One Out(LOO)\n",
    "- Simple cross validation -> k = data size\n",
    "- 한번에 한 개의 데이터만 Test set으로 사용함 -> 총 k번 iteration"
   ]
  },
  {
   "cell_type": "code",
   "execution_count": 13,
   "metadata": {},
   "outputs": [
    {
     "name": "stdout",
     "output_type": "stream",
     "text": [
      "[1 2 3] [0]\n",
      "[0 2 3] [1]\n",
      "[0 1 3] [2]\n",
      "[0 1 2] [3]\n"
     ]
    }
   ],
   "source": [
    "from sklearn.model_selection import LeaveOneOut\n",
    "\n",
    "test = [1,2,3,4]\n",
    "loo = LeaveOneOut()\n",
    "for train, test in loo.split(test):\n",
    "    print(\"%s %s\" %(train,test))"
   ]
  },
  {
   "cell_type": "code",
   "execution_count": 16,
   "metadata": {},
   "outputs": [
    {
     "data": {
      "text/plain": [
       "(-28.41138591638757, -23.867078861847222)"
      ]
     },
     "execution_count": 16,
     "metadata": {},
     "output_type": "execute_result"
    }
   ],
   "source": [
    "loo = LeaveOneOut()\n",
    "\n",
    "lasso_scores = cross_val_score(lasso_regressor,X,y,cv=loo,scoring=\"neg_mean_squared_error\")\n",
    "ridge_scores = cross_val_score(ridge_regressor,X,y,cv=loo,scoring=\"neg_mean_squared_error\")\n",
    "np.mean(lasso_scores), np.mean(ridge_scores)"
   ]
  },
  {
   "cell_type": "code",
   "execution_count": null,
   "metadata": {},
   "outputs": [],
   "source": [
    "import matplotlib.pyplot as plt\n",
    "labels = [\"LASSO\",\"RIDGE\"]\n",
    "plt.boxplot((lasso_scores, ridge_scores),labels=labels)\n",
    "plt.grid(linestyle=\"--\")\n",
    "plt.show()"
   ]
  },
  {
   "cell_type": "markdown",
   "metadata": {},
   "source": [
    "### Validation set for parameter turning\n",
    "- Validation set의 많은 이유 중 하나가 Hyper parameter turning\n",
    "- Number of iterations(SGD), Number of branch (Tree-based) etc.\n",
    "- Validation set의 성능으로 최적의 parameter를 찾음\n",
    "- Validation set 결과와 Training set 결과의 차이가 벌어지면 overfitting"
   ]
  },
  {
   "cell_type": "code",
   "execution_count": 21,
   "metadata": {},
   "outputs": [],
   "source": [
    "def rmse(predictions, targets):\n",
    "    return np.sqrt(((predictions - targets) ** 2).mean())"
   ]
  },
  {
   "cell_type": "code",
   "execution_count": 18,
   "metadata": {},
   "outputs": [],
   "source": [
    "from sklearn.linear_model import SGDRegressor\n",
    "from sklearn.preprocessing import StandardScaler\n",
    "\n",
    "std = StandardScaler()\n",
    "std.fit(X)\n",
    "X_scaled = std.transform(X)\n",
    "\n",
    "eta0 = 0.01\n",
    "max_iter = 100"
   ]
  },
  {
   "cell_type": "code",
   "execution_count": 22,
   "metadata": {},
   "outputs": [],
   "source": [
    "from sklearn.model_selection import train_test_split\n",
    "\n",
    "X_train_dataset, X_test, y_train_dataset, y_test = train_test_split(X_scaled,y,test_size=0.2, random_state=42)\n",
    "\n",
    "sgd_regressor = SGDRegressor(eta0=eta0, max_iter=max_iter, warm_start=True,learning_rate=\"constant\")\n",
    "# warm_start : 초기값이 주어지는 것\n",
    "\n",
    "rmse_val_score = []\n",
    "rmse_train_score = []\n",
    "model_list = []\n",
    "\n",
    "# 0.8, 0.2로 나눈 상태에서 다시 나누는 것(train과 validation) but 별로 잘 안씀\n",
    "X_train, X_val, y_train, y_val = train_test_split(X_train_dataset,y_train_dataset,test_size=0.2,random_state=42)\n",
    "sgd_regressor.fit(X_train, y_train)\n",
    "\n",
    "# kf = KFold(n_splits=100, shuffle=True)\n",
    "# for train_index, test_index in kf.split(X_train_dataset):\n",
    "\n",
    "for i in range(300):\n",
    "    y_pred = sgd_regressor.predict(X_train)\n",
    "    y_true = y_train\n",
    "    rmse_train_score.append(rmse(y_pred,y_true))\n",
    "    \n",
    "    y_pred = sgd_regressor.predict(X_val)\n",
    "    y_true = y_val\n",
    "    rmse_val_score.append(rmse(y_pred, y_true))\n",
    "    model_list.append(sgd_regressor) # 현재상태 model instant 저장\n",
    "    \n",
    "    coef = sgd_regressor.coef_.copy()\n",
    "    intercept = sgd_regressor.intercept_.copy()\n",
    "    \n",
    "    sgd_regressor = SGDRegressor(eta0=eta0, max_iter=max_iter, warm_start=True, learning_rate=\"constant\")\n",
    "    \n",
    "    sgd_regressor.fit(X_train,y_train,coef_init=coef,intercept_init=intercept)"
   ]
  },
  {
   "cell_type": "code",
   "execution_count": 23,
   "metadata": {},
   "outputs": [
    {
     "data": {
      "image/png": "[encoded data removed]",
      "text/plain": [
       "<Figure size 432x288 with 1 Axes>"
      ]
     },
     "metadata": {},
     "output_type": "display_data"
    }
   ],
   "source": [
    "plt.plot(range(len(rmse_val_score)),rmse_val_score,c=\"G\",label=\"VAL\")\n",
    "plt.plot(range(len(rmse_train_score)),rmse_train_score,c=\"r\",label=\"TRAINING\")\n",
    "plt.scatter(99,rmse(y_test,sgd_regressor.predict(X_test)),s=1,label=\"TEST\")\n",
    "plt.legend()\n",
    "plt.show()"
   ]
  },
  {
   "cell_type": "code",
   "execution_count": 24,
   "metadata": {},
   "outputs": [
    {
     "data": {
      "text/plain": [
       "array([222,  45, 248, 181,  72,  33,  38, 294,  73,  78, 134,  70, 256,\n",
       "       121,  77, 143, 145, 166, 107,  22, 233,  82, 250, 183, 171, 118,\n",
       "       169, 240, 290, 124, 114, 262,  16, 140, 196, 268, 254, 138,  46,\n",
       "        52, 212, 269, 260, 295, 299, 158, 211, 217, 287,  84,  57,  35,\n",
       "        56, 122, 277,  49, 168,  21,  91, 142, 228, 195, 165, 191,  36,\n",
       "        99, 203,  59,  94, 139, 225, 201,  13, 281, 109, 136, 128, 148,\n",
       "        34,  31, 129,  71, 202, 172, 221, 170, 229, 224, 223, 156, 144,\n",
       "       293, 241, 125,   3, 282, 175, 273, 147, 176,  87, 193, 246, 162,\n",
       "       127, 245, 278, 231,  79, 296,   4, 198,  92, 298,  42,  66,  67,\n",
       "       237, 297, 110, 230,  19,  68,  41,  51, 199,   2,  89, 188, 232,\n",
       "       132, 116, 135, 182, 200, 152, 102, 159, 271, 178, 190, 276,  96,\n",
       "        88,  61, 288, 247, 218, 112,  62,  43,  54, 264, 244,  48, 105,\n",
       "       133, 215,   7, 101,  20, 151, 253, 100, 238,  26,  27, 167,  30,\n",
       "       189, 106, 115, 206, 208, 117,  83,  63,  12, 272, 184, 259,  53,\n",
       "        80, 263, 270,  90,   9,  14, 164, 280, 185, 180, 141, 275,  23,\n",
       "        39,  74, 274, 236, 103,  10, 283,  98, 205, 242,  65, 154, 150,\n",
       "       284, 261,  25, 209,  95, 249,  64,  47,  86, 174,  15,  60, 255,\n",
       "       123, 146, 234, 108,  93, 265, 279, 285, 111, 292, 177, 119,  76,\n",
       "       258,  85, 220, 257, 161, 113, 192,  28, 291,  40, 163, 153, 207,\n",
       "        37, 216,  55,  75,  58, 286, 137,  18, 104,   8,   5, 126,  69,\n",
       "       289, 227,  81, 239, 187,  32, 173, 157, 131,  29,  17, 251, 186,\n",
       "       130,  97, 266, 155, 226,  44, 204, 219, 160,   0, 210, 267, 194,\n",
       "       213,  24,   6, 214, 149, 197, 243, 235,   1,  11,  50, 252, 120,\n",
       "       179], dtype=int64)"
      ]
     },
     "execution_count": 24,
     "metadata": {},
     "output_type": "execute_result"
    }
   ],
   "source": [
    "np.argsort(rmse_val_score)"
   ]
  },
  {
   "cell_type": "code",
   "execution_count": 26,
   "metadata": {},
   "outputs": [
    {
     "data": {
      "text/plain": [
       "5.142430228538233"
      ]
     },
     "execution_count": 26,
     "metadata": {},
     "output_type": "execute_result"
    }
   ],
   "source": [
    "rmse(y_test,sgd_regressor.predict(X_test))"
   ]
  },
  {
   "cell_type": "code",
   "execution_count": 27,
   "metadata": {},
   "outputs": [
    {
     "data": {
      "text/plain": [
       "5.03447425755523"
      ]
     },
     "execution_count": 27,
     "metadata": {},
     "output_type": "execute_result"
    }
   ],
   "source": [
    "rmse(y_test,model_list[217].predict(X_test))"
   ]
  },
  {
   "cell_type": "code",
   "execution_count": 28,
   "metadata": {},
   "outputs": [
    {
     "data": {
      "text/plain": [
       "array([-1.20891198,  0.76255126,  0.44839913,  1.72659068, -1.86250679,\n",
       "        3.92885701, -0.10037196, -3.24998655,  1.73978811, -1.73424714,\n",
       "       -2.32725993,  1.43138451, -3.89317596])"
      ]
     },
     "execution_count": 28,
     "metadata": {},
     "output_type": "execute_result"
    }
   ],
   "source": [
    "model_list[0].coef_"
   ]
  },
  {
   "cell_type": "markdown",
   "metadata": {},
   "source": [
    "### Etc...\n",
    "- RepeatedKFold : 중복이 포함된 K-Fold 생성\n",
    "- LeavePOut : 한번에 P개를 뽑음 (Not LOO for one data)\n",
    "- ShuffleSplit : 독립적인(중복되는) 데이터 Sampling\n",
    "- StratfiedKFold : Y값 비율에 따라 뽑음\n",
    "- GroupKFold : 그룹별로 데이터를 Sampling"
   ]
  },
  {
   "cell_type": "code",
   "execution_count": null,
   "metadata": {},
   "outputs": [],
   "source": []
  }
 ],
 "metadata": {
  "kernelspec": {
   "display_name": "Python 3",
   "language": "python",
   "name": "python3"
  },
  "language_info": {
   "codemirror_mode": {
    "name": "ipython",
    "version": 3
   },
   "file_extension": ".py",
   "mimetype": "text/x-python",
   "name": "python",
   "nbconvert_exporter": "python",
   "pygments_lexer": "ipython3",
   "version": "3.6.5"
  }
 },
 "nbformat": 4,
 "nbformat_minor": 2
}
