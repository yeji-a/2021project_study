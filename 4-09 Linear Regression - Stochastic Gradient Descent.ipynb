{
 "cells": [
  {
   "cell_type": "markdown",
   "metadata": {},
   "source": [
    "### Full-batch Gradient descent\n",
    "- 앞시간에 배웠던 것은 이론과 달리 전체 점의 평균을 낸 뒤 그것에 대해 업데이트를 해준 것임\n",
    "- 한 점에서 시작해서 업데이트를 해주는 것 : Gradient descent\n",
    "- 전체 점의 평균을 내고 그것에 대해 업데이트를 해주는 것 : Full-batch Gradient descent"
   ]
  },
  {
   "cell_type": "markdown",
   "metadata": {},
   "source": [
    "- GD는 1개의 데이터를 기준으로 미분\n",
    "- 그러나 일반적으로 GD = (full) batch GD라고 가정\n",
    "- 모든 데이터셋으로 학습"
   ]
  },
  {
   "cell_type": "markdown",
   "metadata": {},
   "source": [
    "- 업데이트 횟수 감소 -> 계산상 효율적(속도) 가능 (data개수에 depend)\n",
    "- 안정적인 Cost함수 수렴\n",
    "- 지역 최적화 가능\n",
    "- 메모리 문제 (Ex - 30억개의 데이터를 한번에?)\n",
    "- 대규모 dataset -> 모델/파라메터 업데이트가 느려짐"
   ]
  },
  {
   "cell_type": "markdown",
   "metadata": {},
   "source": [
    "### Stochastic gradient descent\n",
    "- 원래 의미는 dataset에서 random하게 training sample을 뽑은 후 학습할 때 사용함 (한점씩 랜덤하게 선택하여 학습)\n",
    "- Data를 넣기 전에 Shuffle"
   ]
  },
  {
   "cell_type": "code",
   "execution_count": null,
   "metadata": {},
   "outputs": [],
   "source": [
    "procedure SGD\n",
    "    shuffle(X)\n",
    "    for i in number of X do\n",
    "        한개씩 불러서 update\n",
    "    end for\n",
    "end procedure"
   ]
  },
  {
   "cell_type": "markdown",
   "metadata": {},
   "source": [
    "- 빈번한 업데이트 모델 성능 및 개선 속도 확인 가능\n",
    "- 일부 문제에 대해 더 빨리 수렴\n",
    "- 지역 최적화 회피\n",
    "- 대용량 데이터시 시간이 오래걸림\n",
    "- 더 이상 cost가 줄어들지 않는 시점의 발견이 어려움"
   ]
  },
  {
   "cell_type": "markdown",
   "metadata": {},
   "source": [
    "### Mini-batch(stochastic) gradient descent\n",
    "- 한번의 일정량의 데이터를 랜덤하게 뽑아서 학습 (일정구간으로 나눠서 학습)\n",
    "- SGD와 Batch GD를 혼합한 기법\n",
    "- 가장 일반적으로 많이 쓰이는 기법"
   ]
  },
  {
   "cell_type": "markdown",
   "metadata": {},
   "source": [
    "### Epoch & Batch-size\n",
    "- 전체 데이터가 Training 데이터에 들어갈 때 카운팅\n",
    "- Full-batch를 n번 실행하면 n epoch\n",
    "- Batch-size 한번에 학습되는 데이터의 개수\n",
    "- 총 5,120개의 Training data에 512 batch-size면 몇 번 학습을 해야 1 epoch가 되는가?"
   ]
  },
  {
   "cell_type": "code",
   "execution_count": null,
   "metadata": {},
   "outputs": [],
   "source": [
    "# Mini-batch SGD\n",
    "procedure MINI-BATCH SGD\n",
    "    shuffle(X)\n",
    "    BS <- BATCH SIZE\n",
    "    NB <- Number of Batches \n",
    "    NB <- len(X)//BS\n",
    "    for i in NB do\n",
    "        Batch-sized examples"
   ]
  }
 ],
 "metadata": {
  "kernelspec": {
   "display_name": "Python 3",
   "language": "python",
   "name": "python3"
  },
  "language_info": {
   "codemirror_mode": {
    "name": "ipython",
    "version": 3
   },
   "file_extension": ".py",
   "mimetype": "text/x-python",
   "name": "python",
   "nbconvert_exporter": "python",
   "pygments_lexer": "ipython3",
   "version": "3.6.5"
  }
 },
 "nbformat": 4,
 "nbformat_minor": 2
}
