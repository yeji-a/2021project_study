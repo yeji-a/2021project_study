{
 "cells": [
  {
   "cell_type": "markdown",
   "metadata": {},
   "source": [
    "### Linear regression with GD\n",
    "- 임의의 세타0,세타1 값으로 초기화\n",
    "- Cost function J(세타0,세타1)이 최소화 될 때까지 학습\n",
    "- 더 이상 cost function이 줄어들지 않거나 학습횟수를 초과할 때 종료"
   ]
  },
  {
   "cell_type": "markdown",
   "metadata": {},
   "source": [
    "- Learning rate, Iteration 횟수 등 Parameter 지정\n",
    "- Feature가 많으면 Normal equation에 비해 상대적으로 빠름\n",
    "- 최적값에 수렴하지 않을 수도 있음"
   ]
  },
  {
   "cell_type": "code",
   "execution_count": 12,
   "metadata": {},
   "outputs": [],
   "source": [
    "import matplotlib.pyplot as plt\n",
    "%matplotlib inline\n",
    "import pandas as pd\n",
    "import numpy as np\n",
    "import random"
   ]
  },
  {
   "cell_type": "code",
   "execution_count": 13,
   "metadata": {},
   "outputs": [
    {
     "data": {
      "image/png": "[encoded data removed]",
      "text/plain": [
       "<Figure size 432x288 with 1 Axes>"
      ]
     },
     "metadata": {},
     "output_type": "display_data"
    }
   ],
   "source": [
    "# data generation하기\n",
    "def gen_data(numPoints, bias, variance):\n",
    "# bias : w0 값, variance : 임의로 랜덤하게 생성\n",
    "    x = np.zeros(shape=(numPoints, 2))\n",
    "    y = np.zeros(shape=numPoints)\n",
    "    # basically a straight line\n",
    "    for i in range(0, numPoints):\n",
    "        # bias feature\n",
    "        x[i][0] = 1\n",
    "        x[i][1] = i\n",
    "        #our target variable\n",
    "        y[i] = (i+bias) + random.uniform(0,1) * variance\n",
    "    return x,y\n",
    "\n",
    "# gen 100 points with a bias of 25 and 10 variance as a bit of noise\n",
    "x, y = gen_data(100,25,10)\n",
    "\n",
    "plt.plot(x[:,1]+1,y,\"ro\")\n",
    "plt.show()"
   ]
  },
  {
   "cell_type": "code",
   "execution_count": 41,
   "metadata": {},
   "outputs": [],
   "source": [
    "def hypothesis_function(X, theta):\n",
    "    return X.dot(theta)"
   ]
  },
  {
   "cell_type": "code",
   "execution_count": 42,
   "metadata": {},
   "outputs": [],
   "source": [
    "h = hypothesis_function(X,w)"
   ]
  },
  {
   "cell_type": "code",
   "execution_count": 43,
   "metadata": {},
   "outputs": [],
   "source": [
    "def cost_function(h, y):\n",
    "    return (1/(2*len(y))) * np.sum((h-y)**2)"
   ]
  },
  {
   "cell_type": "code",
   "execution_count": 48,
   "metadata": {
    "scrolled": true
   },
   "outputs": [
    {
     "data": {
      "text/plain": [
       "5341.920269461877"
      ]
     },
     "execution_count": 48,
     "metadata": {},
     "output_type": "execute_result"
    }
   ],
   "source": [
    "h = hypothesis_function(X,w)\n",
    "cost_function(h, y)"
   ]
  },
  {
   "cell_type": "code",
   "execution_count": 47,
   "metadata": {},
   "outputs": [],
   "source": [
    "def gradient_descent(X,y,w,alpha,iterations):\n",
    "# X : 1과 여러가지 숫자, y : 예측하려는 값 (100개가 들어가있겠지)\n",
    "# w : x0,x1 두 개가 있으니 w도 2개 (w0,w1)\n",
    "# alpha : learning rate, interations : 얼마나 돌건지\n",
    "    theta = w\n",
    "    m = len(y) # data의 갯수\n",
    "    \n",
    "    theta_list = [theta.tolist()]\n",
    "    cost = cost_function(hypothesis_function(X,theta),y)\n",
    "    cost_list = [cost]\n",
    "    # 밑 코드의 for i in range(0, numIterations)의 코드\n",
    "    \n",
    "    # J의 함수 w0, w1로 미분한 값들 그대로 써줌(좋은 코드는 X)\n",
    "    for i in range(iterations):\n",
    "        t0 = theta[0] - (alpha/m) * np.sum(np.dot(X,theta)-y)\n",
    "        t1 = theta[1] - (alpha/m) * np.sum((np.dot(X,theta)-y)*X[:,1])\n",
    "        theta = np.array([t0,t1])\n",
    "        \n",
    "        # cost가 어떻게 변하는지 보기 위해 사용하는 코드\n",
    "        if i % 10 == 0:\n",
    "            theta_list.append(theta.tolist())\n",
    "            cost = cost_function(hypothesis_function(X,theta),y)\n",
    "            cost_list.append(cost)\n",
    "            \n",
    "    return theta, theta_list, cost_list"
   ]
  },
  {
   "cell_type": "code",
   "execution_count": 46,
   "metadata": {},
   "outputs": [
    {
     "name": "stdout",
     "output_type": "stream",
     "text": [
      "theta: [19.86693109  3.41657777]\n",
      "cost: 625.3750783452449\n"
     ]
    }
   ],
   "source": [
    "iterations = 10000\n",
    "alpha = 0.001\n",
    "\n",
    "theta, theta_list, cost_list = gradient_descent(X, y, w, alpha, iterations)\n",
    "cost = cost_function(hypothesis_function(X, theta), y)\n",
    "\n",
    "print(\"theta:\", theta)\n",
    "print('cost:', cost_function(hypothesis_function(X, theta), y))"
   ]
  },
  {
   "cell_type": "markdown",
   "metadata": {},
   "source": [
    "## 수업"
   ]
  },
  {
   "cell_type": "code",
   "execution_count": null,
   "metadata": {},
   "outputs": [],
   "source": [
    "plt.figure(figsize=(10,5))\n",
    "\n",
    "y_predict_step = np.dot(X,theta_list.transpose())\n",
    "plt.plot(raw_X,y,\"o\",alpha=0.5)\n",
    "for i in range(0,len(cost_list),100):\n",
    "    plt.plot(raw_X,y_predict_step[:,i],label='Line %d'%i)\n",
    "    \n",
    "plt.legend(bbox_to_anchor=(1.05,1),loc=2,borderaxespad=0.)\n",
    "plt.show()"
   ]
  },
  {
   "cell_type": "code",
   "execution_count": null,
   "metadata": {},
   "outputs": [],
   "source": [
    "y_predict_step = np.dot(x,theta_list.transpose())\n",
    "plt.plot(x[:.1],y,\"ro\")\n",
    "for i in range(0,20,2):\n",
    "    plt.plot(x[:,1],y_predict_step[:,i],label='Line %d'%i)\n",
    "    \n",
    "plt.legend(bbox_to_anchor=(1.05,1),loc=2,borderaxespad=0.)\n",
    "plt.show()"
   ]
  },
  {
   "cell_type": "code",
   "execution_count": null,
   "metadata": {},
   "outputs": [],
   "source": [
    "y_predict = np.dot(x,yheta)\n",
    "plt.plot(x[:,1],y,\"ro\")\n",
    "plt.plot(x[:,1],y_predict,lw=3)\n",
    "plt.show()"
   ]
  },
  {
   "cell_type": "code",
   "execution_count": null,
   "metadata": {},
   "outputs": [],
   "source": [
    "cost_list\n",
    "iterations = range(len(cost_list))\n",
    "\n",
    "plt.scatter(iterations,cost_list)\n",
    "plt.show()"
   ]
  },
  {
   "cell_type": "code",
   "execution_count": null,
   "metadata": {},
   "outputs": [],
   "source": [
    "# m denotes the number of examples here, not the number of features\n",
    "def gradient_descent(x,y,theta,alpha,m,numIterations):\n",
    "    xTrans = x.transpose()\n",
    "    theta_list = []\n",
    "    cost_list = []\n",
    "    for i in range(0, numIterations):\n",
    "        hypothesis = np.dot(x, theta)\n",
    "        loss = hypothesis - y\n",
    "        \n",
    "        cost = np.sum(loss ** 2) / (2 * m)\n",
    "        gradient = np.dot(xTrans, loss) / m\n",
    "        print(gradient.shape)\n",
    "        \n",
    "        # update\n",
    "        theta = theta - alpha * gradient\n",
    "        if i % 250 == 0:\n",
    "            theta_list.append(theta)\n",
    "            cost_list.append(cost)\n",
    "    return theta, np.array(theta_list), cost_list\n",
    "\n",
    "m,n = np.shape(x)\n",
    "numIterations = 5000\n",
    "alpha = 0.0005\n",
    "theta = np.ones(n)"
   ]
  },
  {
   "cell_type": "code",
   "execution_count": null,
   "metadata": {},
   "outputs": [],
   "source": []
  },
  {
   "cell_type": "code",
   "execution_count": 33,
   "metadata": {},
   "outputs": [
    {
     "data": {
      "text/html": [
       "<div>\n",
       "<style scoped>\n",
       "    .dataframe tbody tr th:only-of-type {\n",
       "        vertical-align: middle;\n",
       "    }\n",
       "\n",
       "    .dataframe tbody tr th {\n",
       "        vertical-align: top;\n",
       "    }\n",
       "\n",
       "    .dataframe thead th {\n",
       "        text-align: right;\n",
       "    }\n",
       "</style>\n",
       "<table border=\"1\" class=\"dataframe\">\n",
       "  <thead>\n",
       "    <tr style=\"text-align: right;\">\n",
       "      <th></th>\n",
       "      <th>X</th>\n",
       "      <th>Y</th>\n",
       "    </tr>\n",
       "  </thead>\n",
       "  <tbody>\n",
       "    <tr>\n",
       "      <th>0</th>\n",
       "      <td>108</td>\n",
       "      <td>392.5</td>\n",
       "    </tr>\n",
       "    <tr>\n",
       "      <th>1</th>\n",
       "      <td>19</td>\n",
       "      <td>46.2</td>\n",
       "    </tr>\n",
       "    <tr>\n",
       "      <th>2</th>\n",
       "      <td>13</td>\n",
       "      <td>15.7</td>\n",
       "    </tr>\n",
       "    <tr>\n",
       "      <th>3</th>\n",
       "      <td>124</td>\n",
       "      <td>422.2</td>\n",
       "    </tr>\n",
       "    <tr>\n",
       "      <th>4</th>\n",
       "      <td>40</td>\n",
       "      <td>119.4</td>\n",
       "    </tr>\n",
       "  </tbody>\n",
       "</table>\n",
       "</div>"
      ],
      "text/plain": [
       "     X      Y\n",
       "0  108  392.5\n",
       "1   19   46.2\n",
       "2   13   15.7\n",
       "3  124  422.2\n",
       "4   40  119.4"
      ]
     },
     "execution_count": 33,
     "metadata": {},
     "output_type": "execute_result"
    }
   ],
   "source": [
    "df = pd.read_csv(\"slr06.csv\")\n",
    "df.head()"
   ]
  },
  {
   "cell_type": "code",
   "execution_count": 34,
   "metadata": {},
   "outputs": [],
   "source": [
    "raw_X = df[\"X\"].values.reshape(-1, 1)\n",
    "y = df[\"Y\"].values"
   ]
  },
  {
   "cell_type": "code",
   "execution_count": 35,
   "metadata": {},
   "outputs": [
    {
     "data": {
      "text/plain": [
       "[<matplotlib.lines.Line2D at 0x28d74709278>]"
      ]
     },
     "execution_count": 35,
     "metadata": {},
     "output_type": "execute_result"
    },
    {
     "data": {
      "image/png": "[encoded data removed]",
      "text/plain": [
       "<Figure size 720x360 with 1 Axes>"
      ]
     },
     "metadata": {},
     "output_type": "display_data"
    }
   ],
   "source": [
    "plt.figure(figsize=(10,5))\n",
    "plt.plot(raw_X,y, 'o', alpha=0.5)"
   ]
  },
  {
   "cell_type": "code",
   "execution_count": 36,
   "metadata": {},
   "outputs": [
    {
     "data": {
      "text/plain": [
       "(array([[108],\n",
       "        [ 19],\n",
       "        [ 13],\n",
       "        [124],\n",
       "        [ 40]], dtype=int64), array([392.5,  46.2,  15.7, 422.2, 119.4]))"
      ]
     },
     "execution_count": 36,
     "metadata": {},
     "output_type": "execute_result"
    }
   ],
   "source": [
    "raw_X[:5], y[:5]"
   ]
  },
  {
   "cell_type": "code",
   "execution_count": 37,
   "metadata": {},
   "outputs": [
    {
     "data": {
      "text/plain": [
       "array([[1.],\n",
       "       [1.],\n",
       "       [1.]])"
      ]
     },
     "execution_count": 37,
     "metadata": {},
     "output_type": "execute_result"
    }
   ],
   "source": [
    "np.ones((len(raw_X),1))[:3]"
   ]
  },
  {
   "cell_type": "code",
   "execution_count": 38,
   "metadata": {},
   "outputs": [
    {
     "data": {
      "text/plain": [
       "array([[  1., 108.],\n",
       "       [  1.,  19.],\n",
       "       [  1.,  13.],\n",
       "       [  1., 124.],\n",
       "       [  1.,  40.]])"
      ]
     },
     "execution_count": 38,
     "metadata": {},
     "output_type": "execute_result"
    }
   ],
   "source": [
    "X = np.concatenate( (np.ones((len(raw_X),1)), raw_X ), axis=1)\n",
    "X[:5]"
   ]
  },
  {
   "cell_type": "code",
   "execution_count": 39,
   "metadata": {},
   "outputs": [
    {
     "data": {
      "text/plain": [
       "array([-0.08224806,  0.89816962])"
      ]
     },
     "execution_count": 39,
     "metadata": {},
     "output_type": "execute_result"
    }
   ],
   "source": [
    "w = np.random.normal((2,1)) \n",
    "# w = np.array([5,3])\n",
    "w"
   ]
  },
  {
   "cell_type": "code",
   "execution_count": 40,
   "metadata": {},
   "outputs": [
    {
     "data": {
      "text/plain": [
       "[<matplotlib.lines.Line2D at 0x28d746ddb70>]"
      ]
     },
     "execution_count": 40,
     "metadata": {},
     "output_type": "execute_result"
    },
    {
     "data": {
      "image/png": "[encoded data removed]",
      "text/plain": [
       "<Figure size 720x360 with 1 Axes>"
      ]
     },
     "metadata": {},
     "output_type": "display_data"
    }
   ],
   "source": [
    "plt.figure(figsize=(10,5))\n",
    "y_predict = np.dot(X, w)\n",
    "plt.plot(raw_X,y,\"o\", alpha=0.5)\n",
    "plt.plot(raw_X,y_predict)"
   ]
  },
  {
   "cell_type": "code",
   "execution_count": null,
   "metadata": {},
   "outputs": [],
   "source": []
  }
 ],
 "metadata": {
  "kernelspec": {
   "display_name": "Python 3",
   "language": "python",
   "name": "python3"
  },
  "language_info": {
   "codemirror_mode": {
    "name": "ipython",
    "version": 3
   },
   "file_extension": ".py",
   "mimetype": "text/x-python",
   "name": "python",
   "nbconvert_exporter": "python",
   "pygments_lexer": "ipython3",
   "version": "3.6.5"
  }
 },
 "nbformat": 4,
 "nbformat_minor": 2
}
