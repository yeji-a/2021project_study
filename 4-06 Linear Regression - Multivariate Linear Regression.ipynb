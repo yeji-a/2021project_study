{
 "cells": [
  {
   "cell_type": "markdown",
   "metadata": {},
   "source": [
    "### 한 개 이상의 Feature로 구성된 데이터를 분석할 때\n",
    "- 식은 많아지지만 여전히 Cost함수의 최적화"
   ]
  },
  {
   "cell_type": "code",
   "execution_count": null,
   "metadata": {},
   "outputs": [],
   "source": [
    "for _ in range(iterations):\n",
    "    predictions = x.dot(theta)\n",
    "    \n",
    "    for i in range(theta.size):\n",
    "        partial_marginal = x[:,i]\n",
    "        # xn의 값들이 들어가있음 xn의 값을 차례로 가져옴\n",
    "        errors_xi = (predictions - y) * partial_marginal\n",
    "        theta[i] = theta[i] - alpha * (1.0 / m) * errors_xi.sum()\n",
    "    \n",
    "    theta_history.append(theta)\n",
    "    cost_history.append(compute_cost(x,y,theta))\n",
    "# 이중포문, iterations이 계속 돌아서 조금 버거움ㅇ"
   ]
  },
  {
   "cell_type": "code",
   "execution_count": null,
   "metadata": {},
   "outputs": [],
   "source": [
    "# m denotes the number of examples here, not the number of features\n",
    "# 세타 값 업데이트 한 번에 하는 것(위에 코드보다 효율적)\n",
    "def gradient_descent(x,y,theta,alpha,m,numIterations):\n",
    "    xTrans = x.transpose()\n",
    "    theta_list = []\n",
    "    cost_list = []\n",
    "    for i in range(0, numIterations):\n",
    "        hypothesis = np.dot(x, theta)\n",
    "        loss = hypothesis - y\n",
    "        \n",
    "        cost = np.sum(loss ** 2) / (2 * m)\n",
    "        gradient = np.dot(xTrans, loss) / m\n",
    "        print(gradient.shape)\n",
    "        \n",
    "        # update\n",
    "        theta = theta - alpha * gradient\n",
    "        if i % 250 == 0:\n",
    "            theta_list.append(theta)\n",
    "            cost_list.append(cost)\n",
    "    return theta, np.array(theta_list), cost_list\n",
    "\n",
    "m,n = np.shape(x)\n",
    "numIterations = 5000\n",
    "alpha = 0.0005\n",
    "theta = np.ones(n)"
   ]
  }
 ],
 "metadata": {
  "kernelspec": {
   "display_name": "Python 3",
   "language": "python",
   "name": "python3"
  },
  "language_info": {
   "codemirror_mode": {
    "name": "ipython",
    "version": 3
   },
   "file_extension": ".py",
   "mimetype": "text/x-python",
   "name": "python",
   "nbconvert_exporter": "python",
   "pygments_lexer": "ipython3",
   "version": "3.6.5"
  }
 },
 "nbformat": 4,
 "nbformat_minor": 2
}
