{
 "cells": [
  {
   "cell_type": "markdown",
   "metadata": {},
   "source": [
    "### L2 regularization\n",
    "- 기존 Cost function L2(norm) penalty term을 추가\n",
    "- norm : 벡터의 길이 혹은 크기를 측정하는 방법\n",
    "- L2는 Euclidean distance : 원점에서 벡터 좌표까지의 거리\n",
    "- 세타의 값이 너무 커지지 않도록 조절하는 방법"
   ]
  },
  {
   "cell_type": "markdown",
   "metadata": {},
   "source": [
    "### L1 regularization\n",
    "- 기존 Cost function L1(norm) penalty term을 추가\n",
    "- norm : 벡터의 길이 혹은 크기를 측정하는 방법\n",
    "- L1는 manhatten distance : 원점에서 벡터 좌표까지의 거리\n",
    "- L2보다는 패널티 값이 작다"
   ]
  },
  {
   "cell_type": "markdown",
   "metadata": {},
   "source": [
    "#### L1 \n",
    "- Unstable solution (절대값을 풀어줘야하기때문에)\n",
    "- Always on solution\n",
    "- Sparse solution\n",
    "- Feature selection (값이 0이 나올 수 있는데, 0이 나오면 Weight값이 중요하지 않구나 생각할 수 있음)\n",
    "\n",
    "#### L2\n",
    "- stable solution\n",
    "- Only one solution\n",
    "- Non-sparse solution"
   ]
  },
  {
   "cell_type": "code",
   "execution_count": null,
   "metadata": {},
   "outputs": [],
   "source": []
  }
 ],
 "metadata": {
  "kernelspec": {
   "display_name": "Python 3",
   "language": "python",
   "name": "python3"
  },
  "language_info": {
   "codemirror_mode": {
    "name": "ipython",
    "version": 3
   },
   "file_extension": ".py",
   "mimetype": "text/x-python",
   "name": "python",
   "nbconvert_exporter": "python",
   "pygments_lexer": "ipython3",
   "version": "3.6.5"
  }
 },
 "nbformat": 4,
 "nbformat_minor": 2
}
