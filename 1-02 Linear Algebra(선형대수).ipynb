{
 "cells": [
  {
   "cell_type": "markdown",
   "metadata": {},
   "source": [
    "## Linear algebra codes"
   ]
  },
  {
   "cell_type": "code",
   "execution_count": 2,
   "metadata": {},
   "outputs": [
    {
     "name": "stdout",
     "output_type": "stream",
     "text": [
      "[1, 2, 10] (1, 2, 10) {'x': 1, 'y': 1, 'z': 10}\n"
     ]
    }
   ],
   "source": [
    "vector_a = [1,2,10]\n",
    "vector_b = (1,2,10)\n",
    "vector_c = {'x':1, 'y':1, 'z':10}\n",
    "print(vector_a,vector_b,vector_c)"
   ]
  },
  {
   "cell_type": "markdown",
   "metadata": {},
   "source": [
    "Vector representation of python\n",
    "\n",
    "- Vector를 파이썬으로 표시하는 다양한 방법 존재\n",
    "- 최선의 방법은 없음\n",
    "- 값의 변경 유무, 속성값 유무에 따라 선택할 수 있음\n",
    "- 본 수업에서는 기본적으로 list로 vector 연산 실시"
   ]
  },
  {
   "cell_type": "code",
   "execution_count": 3,
   "metadata": {},
   "outputs": [
    {
     "name": "stdout",
     "output_type": "stream",
     "text": [
      "[7, 10]\n"
     ]
    }
   ],
   "source": [
    "u = [2,2]\n",
    "v = [2,3]\n",
    "z = [3,5]\n",
    "result = []\n",
    "for i in range(len(u)):\n",
    "    result.append(u[i]+v[i]+z[i])\n",
    "print(result)\n",
    "\n",
    "# 이런 코드는 쓰면 안됨. 파이썬 답지 못하고 안 아름다움"
   ]
  },
  {
   "cell_type": "code",
   "execution_count": 3,
   "metadata": {},
   "outputs": [
    {
     "name": "stdout",
     "output_type": "stream",
     "text": [
      "[7, 10]\n"
     ]
    }
   ],
   "source": [
    "u = [2,2]\n",
    "v = [2,3]\n",
    "z = [3,5]\n",
    "\n",
    "result = [sum(t) for t in zip(u,v,z)]\n",
    "print(result)\n",
    "\n",
    "# 뺄셈은 어떻게 하라고..?"
   ]
  },
  {
   "cell_type": "code",
   "execution_count": 2,
   "metadata": {},
   "outputs": [
    {
     "name": "stdout",
     "output_type": "stream",
     "text": [
      "[10, 12, 14]\n"
     ]
    }
   ],
   "source": [
    "u = [1,2,3]\n",
    "v = [4,4,4]\n",
    "alpha = 2\n",
    "\n",
    "result = [alpha*sum(t) for t in zip(u,v)]\n",
    "print(result)"
   ]
  },
  {
   "cell_type": "markdown",
   "metadata": {},
   "source": [
    "Matrix representation of python\n",
    "- Matrix 역시 Python으로 표시하는 다양한 방법이 존재\n",
    "- 특히 dict로 표현할 때는 무궁무진한 방법이 있음\n",
    "- 본 수업에서는 기본적으로 two-dimensional list 형태로 표현함\n",
    "- [[1번째 row],[2번째 row],[3번째 row]]"
   ]
  },
  {
   "cell_type": "code",
   "execution_count": 3,
   "metadata": {},
   "outputs": [],
   "source": [
    "matrix_a = [[3,6],[4,5]]\n",
    "matrix_b = [(3,6),(4,5)]\n",
    "matrix_c = {(0,0):3, (0,1):6, (1,0):4, (1,1):5}"
   ]
  },
  {
   "cell_type": "code",
   "execution_count": 4,
   "metadata": {},
   "outputs": [
    {
     "name": "stdout",
     "output_type": "stream",
     "text": [
      "[[8, 14], [10, 12]]\n"
     ]
    }
   ],
   "source": [
    "matrix_a = [[3,6],[4,5]]\n",
    "matrix_b = [[5,8],[6,7]]\n",
    "result = [[sum(row) for row in zip(*t)] \n",
    "          for t in zip(matrix_a,matrix_b)]\n",
    "print(result)\n",
    "\n",
    "# zip으로 들어가면 tuple형태로 묶임\n",
    "# *t : ([3,6],[5,8]) 튜플값 [3,6]과 [5,8]로 unpack\n",
    "# [3+6, 5+8]"
   ]
  },
  {
   "cell_type": "code",
   "execution_count": 5,
   "metadata": {},
   "outputs": [
    {
     "name": "stdout",
     "output_type": "stream",
     "text": [
      "[[12, 24], [16, 20]]\n"
     ]
    }
   ],
   "source": [
    "matrix_a = [[3,6],[4,5]]\n",
    "alpha = 4\n",
    "result = [[alpha * element for element in t] for t in matrix_a]\n",
    "\n",
    "print(result)"
   ]
  },
  {
   "cell_type": "code",
   "execution_count": 6,
   "metadata": {},
   "outputs": [
    {
     "name": "stdout",
     "output_type": "stream",
     "text": [
      "[[1, 4], [2, 5], [3, 6]]\n"
     ]
    }
   ],
   "source": [
    "# Matrix의 계산 : Matrix Trnaspose\n",
    "\n",
    "matrix_a = [[1,2,3],[4,5,6]]\n",
    "result = [[element for element in t] for t in zip(*matrix_a)]\n",
    "print(result)"
   ]
  },
  {
   "cell_type": "code",
   "execution_count": 7,
   "metadata": {},
   "outputs": [
    {
     "name": "stdout",
     "output_type": "stream",
     "text": [
      "[[5, 8], [5, 6]]\n"
     ]
    }
   ],
   "source": [
    "# Matrix의 계산 : Matrix Product\n",
    "\n",
    "matrix_a = [[1,1,2],[2,1,1]]\n",
    "matrix_b = [[1,1],[2,1],[1,3]]\n",
    "result = [[sum(a * b for a,b in zip(row_a,column_b))\\\n",
    "          for column_b in zip(*matrix_b)] for row_a in matrix_a]\n",
    "\n",
    "print(result)\n",
    "\n",
    "# matrix에서 column값 가져올 때가 중요함"
   ]
  },
  {
   "cell_type": "markdown",
   "metadata": {},
   "source": [
    "## Case Study - News Categorization-1"
   ]
  },
  {
   "cell_type": "markdown",
   "metadata": {},
   "source": [
    "- 문자를 숫자로 바꿔야 이해가능\n",
    "- 숫자로 유사하다는 것을 어떻게 표현할까?\n",
    "- 유사하다 = 가깝다\n",
    "- 문자 -> 숫자 -> 벡터"
   ]
  },
  {
   "cell_type": "markdown",
   "metadata": {},
   "source": [
    "문자를 Vector로 - One-hot Encoding\n",
    "- 하나의 단어를 Vector의 Index로 인식 단어 존재시 1 없으면 0\n",
    "\n",
    "Bag of words\n",
    "- 단어별로 인덱스를 부여해서, 한 문장(또는 문서)의 단어의 개수를 Vector로 표현\n",
    "\n",
    "[유사성]\n",
    "Distance measure\n",
    "- 고등학교 때 배운 2차원 평면상 거리 측정 방법들\n",
    "\n",
    "Eculidian distance\n",
    "- 피라고라스 정리, 두 점 사이의 직선의 거리\n",
    "\n",
    "Cosine distance\n",
    "- 두 점 사이의 각도 A*B = ABcos(세타)\n",
    "- 문서에서는 cosine distance를 많이씀 (data set이 크면 클수록 값이 잘 나옴)\n",
    "- Why cosine similarity? Count < Direction\n",
    "- Love,hate (5,0), (5,4), (4,0), 어느 점이 가장 가까운가"
   ]
  },
  {
   "cell_type": "markdown",
   "metadata": {},
   "source": [
    "#### 축구 선수들과 야구 선수들의 기사 분류하기\n",
    "Process\n",
    "- 파일을 불러오기\n",
    "- 파일을 읽어서 단어사전 (corpus) 만들기 (소문자로 split, set으로)\n",
    "- 단어별로 Index 만들기\n",
    "- 만들어진 인덱스로 문서별로 Bag of words vector 생성\n",
    "- 비교하고자 하는 문서 비교하기 (cosine similarity)\n",
    "- 얼마나 맞는지 측정하기"
   ]
  },
  {
   "cell_type": "code",
   "execution_count": 6,
   "metadata": {},
   "outputs": [],
   "source": [
    "# 파일 불러오기\n",
    "import os\n",
    "\n",
    "def get_file_list(dir_name):\n",
    "    return os.listdir(dir_name)\n",
    "# 파일 폴더명을 넣어주면 안에 있는 파일 이름들을 가져옴\n",
    "#list_dir은 파이썬 built-in-modul\n",
    "\n",
    "if __name__ == \"__main__\":\n",
    "    dir_name = \"news_data\"\n",
    "    file_list = get_file_list(dir_name)\n",
    "    file_list = [os.path.join(dir_name,file_name)\n",
    "                for file_name in file_list]\n",
    "# file_list : 실제 위치를 나타냄 \n",
    "# (파이썬에서는 상대경로를 알아야함)\n",
    "# 파이썬에서 파일 경로 찾아갈 때 join 할 때는 \n",
    "# os.path.join 해야함"
   ]
  },
  {
   "cell_type": "code",
   "execution_count": 7,
   "metadata": {},
   "outputs": [],
   "source": [
    "# 파일별로 내용읽기\n",
    "\n",
    "def get_contents(file_list):\n",
    "    y_class=[]\n",
    "    X_text = []\n",
    "    class_dict= {1:\"0\",2:\"0\",3:\"0\",4:\"0\",5:\"1\",6:\"1\",7:\"1\",8:\"1\"}\n",
    "# 0은 야구 1은 축구\n",
    "    \n",
    "    for file_name in file_list:\n",
    "        try:\n",
    "            f = open(file_name,\"r\",encoding=\"cp949\")\n",
    "            category = int(file_name.split(os.sep)[1].split(\"_\")[0])\n",
    "            y_class.append(class_dict[category])\n",
    "            X_text.append(f.read())\n",
    "            f.close()\n",
    "        except UnicodeDecodeError as e:\n",
    "            print(e)\n",
    "            print(file_name)\n",
    "    return X_text, y_class\n",
    "# encoding = \"cp949\" : windows 파일\n",
    "# os.sep : 파일 경로를 나누는(\\) 같은 것들을 의미\n",
    "# split(os.sep)[1] : 파일명\n",
    "# split(\"_\")[0] : 앞에 붙어있는 숫자\n",
    "# y_class : 80개의 기사 중 야구/축구를 0과 1로만 나눔"
   ]
  },
  {
   "cell_type": "code",
   "execution_count": 14,
   "metadata": {},
   "outputs": [],
   "source": [
    "# Corpus 만들기 + 단어별 index 생성하기\n",
    "\n",
    "def get_cleaned_text(text):\n",
    "    import re\n",
    "    text = re.sub('\\W+','', text.lower() )\n",
    "    return text\n",
    "# 의미없는 문장부호 등은 제거 (전처리)\n",
    "\n",
    "def get_corpus_dict(text):\n",
    "    text = [sentence.split() for sentence in text]\n",
    "    # 실제적으로는 sentence(X), document(O)\n",
    "    # text는 two dimensional list임 \n",
    "    # document별로 단어 개수대로 잘라져있기때문\n",
    "    cleaned_words = [get_cleaned_text(word) for words in text for word in words]\n",
    "    # one dimensional list로 바꿔주는 코드\n",
    "    # 80개 파일에서 잘려진 split word들을 다시 한글자씩 뽑아줌\n",
    "\n",
    "    from collections import OrderedDict\n",
    "    corpus_dict = OrderedDict()\n",
    "    # 쓴 순서대로 정렬\n",
    "    for i, v in enumerate(set(cleaned_words)):\n",
    "        corpus_dict[v] = i\n",
    "    # 같은 단어들 다 빼버리고 남은 단어들로만 해서 인덱스 부여\n",
    "    # 단어가 키 값, 인덱스가 value \n",
    "    # (동일한 단어들을 빼줬기 때문에 키 값 가능)\n",
    "    return corpus_dict"
   ]
  },
  {
   "cell_type": "code",
   "execution_count": 16,
   "metadata": {},
   "outputs": [],
   "source": [
    "# 문자별로 Bag of words vector 생성\n",
    "\n",
    "def get_count_vector(text, corpus):\n",
    "    text = [sentence.split() for sentence in text]\n",
    "    # document 뽑아내서 split해줌\n",
    "    word_number_list = [[corpus[get_cleaned_text(word)] for word in words] for words in text]\n",
    "    # two dimensional 형태로 만듦\n",
    "    # 전처리 해주는 방식이 동일해야 함 corpus에 count되려면\n",
    "    # word_number_list : 어떤 단어들이 연속적으로 나열되어 있나\n",
    "    X_vector = [[0 for _ in range(len(corpus))] for x in range(len(text))]\n",
    "    # 80 by 4302 matrix 만들어줌\n",
    "    # for 문에 _ 쓰면 이 변수는 쓰지 않는다 라고 생각하면 됨\n",
    "\n",
    "    for i, text in enumerate(word_number_list):\n",
    "        for word_number in text:\n",
    "            X_vector[i][word_number] += 1\n",
    "    return X_vector\n",
    "# 단어가 document에 얼마나 나왔는지, 단어가 나오면 +1 해줌"
   ]
  },
  {
   "cell_type": "code",
   "execution_count": 17,
   "metadata": {},
   "outputs": [],
   "source": [
    "# 비교하기 (cosine similarity)\n",
    "\n",
    "import math\n",
    "def get_cosine_similarity(v1,v2):\n",
    "    \"compute cosine similarity of v1 to v2: (v1 dot v2)/{||v1||*||v2||)\"\n",
    "    sumxx, sumxy, sumyy = 0, 0, 0\n",
    "    for i in range(len(v1)):\n",
    "        x = v1[i]; y = v2[i]\n",
    "        sumxx += x*x\n",
    "        sumyy += y*y\n",
    "        sumxy += x*y\n",
    "    return sumxy/math.sqrt(sumxx*sumyy)"
   ]
  },
  {
   "cell_type": "code",
   "execution_count": 18,
   "metadata": {},
   "outputs": [],
   "source": [
    "# 비교결과 정리하기\n",
    "\n",
    "def get_similarity_score(X_vector, source):\n",
    "    # source는 우리가 찾고자 하는 문서 (10번째 문서)\n",
    "    source_vector = X_vector[source]\n",
    "    similarity_list = []\n",
    "    for target_vector in X_vector:\n",
    "        similarity_list.append(\n",
    "            get_cosine_similarity(source_vector, target_vector))\n",
    "    # similarity_list: 80개 문서를 다 비교\n",
    "    return similarity_list\n",
    "\n",
    "\n",
    "def get_top_n_similarity_news(similarity_score, n):\n",
    "    import operator\n",
    "    x = {i:v for i, v in enumerate(similarity_score)}\n",
    "    sorted_x = sorted(x.items(), key=operator.itemgetter(1))\n",
    "    return list(reversed(sorted_x))[1:n+1]"
   ]
  },
  {
   "cell_type": "code",
   "execution_count": 20,
   "metadata": {},
   "outputs": [
    {
     "name": "stdout",
     "output_type": "stream",
     "text": [
      "Number of words : 4024\n",
      "0.6950000000000001\n"
     ]
    }
   ],
   "source": [
    "def get_accuracy(similarity_list, y_class, source_news):\n",
    "    source_class = y_class[source_news]\n",
    "\n",
    "    return sum([source_class == y_class[i[0]] for i in similarity_list]) / len(similarity_list)\n",
    "\n",
    "if __name__ == \"__main__\":\n",
    "    dir_name = \"news_data\"\n",
    "    file_list = get_file_list(dir_name)\n",
    "    file_list = [os.path.join(dir_name, file_name) for file_name in file_list]\n",
    "\n",
    "    X_text, y_class = get_contents(file_list)\n",
    "\n",
    "    corpus = get_corpus_dict(X_text)\n",
    "    print(\"Number of words : {0}\".format(len(corpus)))\n",
    "    X_vector = get_count_vector(X_text, corpus)\n",
    "    source_number = 10\n",
    "\n",
    "    result = []\n",
    "\n",
    "    for i in range(80):\n",
    "        source_number = i\n",
    "\n",
    "        similarity_score = get_similarity_score(X_vector, source_number)\n",
    "        similarity_news = get_top_n_similarity_news(similarity_score, 10)\n",
    "        accuracy_score = get_accuracy(similarity_news, y_class, source_number)\n",
    "        result.append(accuracy_score)\n",
    "    print(sum(result) / 80)"
   ]
  },
  {
   "cell_type": "markdown",
   "metadata": {},
   "source": [
    "## Case Study - News Categorization-2"
   ]
  },
  {
   "cell_type": "code",
   "execution_count": 37,
   "metadata": {},
   "outputs": [
    {
     "data": {
      "text/plain": [
       "array([[0, 1, 1, 1, 0, 0, 1, 0, 1],\n",
       "       [0, 1, 0, 1, 0, 2, 1, 0, 1],\n",
       "       [1, 0, 0, 0, 1, 0, 1, 1, 0],\n",
       "       [0, 1, 1, 1, 0, 0, 1, 0, 1]], dtype=int64)"
      ]
     },
     "execution_count": 37,
     "metadata": {},
     "output_type": "execute_result"
    }
   ],
   "source": [
    "from sklearn.feature_extraction.text import CountVectorizer\n",
    "\n",
    "vectorizer = CountVectorizer()\n",
    "corpus = [\n",
    "    'This is the first document.',\n",
    "    'This is the second second document.',\n",
    "    'And the third one.',\n",
    "    'Is this the first document?'\n",
    "]\n",
    "\n",
    "X = vectorizer.fit_transform(corpus)\n",
    "X.toarray()"
   ]
  },
  {
   "cell_type": "code",
   "execution_count": 38,
   "metadata": {},
   "outputs": [
    {
     "data": {
      "text/plain": [
       "['and', 'document', 'first', 'is', 'one', 'second', 'the', 'third', 'this']"
      ]
     },
     "execution_count": 38,
     "metadata": {},
     "output_type": "execute_result"
    }
   ],
   "source": [
    "vectorizer.get_feature_names()"
   ]
  }
 ],
 "metadata": {
  "kernelspec": {
   "display_name": "Python 3",
   "language": "python",
   "name": "python3"
  },
  "language_info": {
   "codemirror_mode": {
    "name": "ipython",
    "version": 3
   },
   "file_extension": ".py",
   "mimetype": "text/x-python",
   "name": "python",
   "nbconvert_exporter": "python",
   "pygments_lexer": "ipython3",
   "version": "3.6.5"
  }
 },
 "nbformat": 4,
 "nbformat_minor": 2
}
