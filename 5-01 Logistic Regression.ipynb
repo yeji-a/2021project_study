{
 "cells": [
  {
   "cell_type": "markdown",
   "metadata": {},
   "source": [
    "# Overview"
   ]
  },
  {
   "cell_type": "markdown",
   "metadata": {},
   "source": [
    "### 기존 접근의 문제점들\n",
    "- 1이상 또는 0이하의 수들이 나오는 걸 어떻게 해석?\n",
    "- 1 또는 0으로 정확히 표현 가능한가?\n",
    "- 변수가 Y에 영향을 주는 정도가 비례하는가?\n",
    "- 확률로 발생할 사건의 가능성을 표현해야 함"
   ]
  },
  {
   "cell_type": "markdown",
   "metadata": {},
   "source": [
    "### Solution\n",
    "- 확률로 나타내자!"
   ]
  },
  {
   "cell_type": "code",
   "execution_count": null,
   "metadata": {},
   "outputs": [],
   "source": []
  },
  {
   "cell_type": "markdown",
   "metadata": {},
   "source": [
    "# Sigmoid function"
   ]
  },
  {
   "cell_type": "markdown",
   "metadata": {},
   "source": [
    "### 분류의 가능성을 확률로 얘기하기\n",
    "- 어떤 사건이 일어날 확률\n",
    "- 1) 일어날 확률 : P(X)\n",
    "- 2) 일어나지 않을 확률 : 1-P(X)\n",
    "- 0 <= P(X) <= 1"
   ]
  },
  {
   "cell_type": "markdown",
   "metadata": {},
   "source": [
    "### Odds Ratio\n",
    "- 해당 사건이 일어날 확률과 일어나지 않을 확률의 비율\n",
    "- 일어날 확률 / 일어나지 않을 확률\n",
    "- P(X) / 1-P(X)"
   ]
  },
  {
   "cell_type": "markdown",
   "metadata": {},
   "source": [
    "### Logit function\n",
    "- X의 값이 주어졌을 때 y의 확률을 이용한 log odds"
   ]
  },
  {
   "cell_type": "markdown",
   "metadata": {},
   "source": [
    "### Sigmoid(=Logistic) Function\n",
    "- Logit 함수의 역함수로 z에 관한 확률을 산출\n",
    "- 미분가능한 연속구간으로 변환\n",
    "- S형태로 닮았다고 하여 sigmoid function으로 호칭"
   ]
  },
  {
   "cell_type": "code",
   "execution_count": null,
   "metadata": {},
   "outputs": [],
   "source": []
  },
  {
   "cell_type": "markdown",
   "metadata": {},
   "source": [
    "# Cost function"
   ]
  },
  {
   "cell_type": "markdown",
   "metadata": {},
   "source": [
    "### Partial derivation of cost function"
   ]
  },
  {
   "cell_type": "markdown",
   "metadata": {},
   "source": [
    "### Weight Update\n",
    "- 모든 세타j 동시에 업데이트"
   ]
  }
 ],
 "metadata": {
  "kernelspec": {
   "display_name": "Python 3",
   "language": "python",
   "name": "python3"
  },
  "language_info": {
   "codemirror_mode": {
    "name": "ipython",
    "version": 3
   },
   "file_extension": ".py",
   "mimetype": "text/x-python",
   "name": "python",
   "nbconvert_exporter": "python",
   "pygments_lexer": "ipython3",
   "version": "3.6.5"
  }
 },
 "nbformat": 4,
 "nbformat_minor": 2
}
