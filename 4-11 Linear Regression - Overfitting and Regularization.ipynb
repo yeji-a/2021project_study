{
 "cells": [
  {
   "cell_type": "markdown",
   "metadata": {},
   "source": [
    "### Overfitting\n",
    "- 학습데이터 과다 최적화 -> 새로운 데이터의 예측↓\n",
    "- [보다 적은 수의 논리로 설명이 가능한 경우, 많은 수의 논리를 세우지 말라] - Occam's razor"
   ]
  },
  {
   "cell_type": "markdown",
   "metadata": {},
   "source": [
    "### Bias - Variance tradeoff\n",
    "- High bias(= Underfitting) : 원래 모델에 많이 떨어짐, 잘못된 데이터만 계속 학습함 -> 잘못된 Weight만 Update\n",
    "- High variance(= Overfitting) : 모든 데이터에 민감하게 학습, Error를 고려하지 않음 -> 모든 Weight가 Update"
   ]
  },
  {
   "cell_type": "markdown",
   "metadata": {},
   "source": [
    "### Train-Test Error"
   ]
  },
  {
   "cell_type": "markdown",
   "metadata": {},
   "source": [
    "### Overcoming Overfitting\n",
    "- 더 많은 데이터를 활용한다 (Gan : fakedata(빅데이터))\n",
    "- Feature의 개수를 줄인다\n",
    "- 적절히 Parameter를 선정한다\n",
    "- Regularization"
   ]
  },
  {
   "cell_type": "markdown",
   "metadata": {},
   "source": [
    "### Regularization\n",
    "- 세타값에 패널티를 준다 (세타값이 한 단위 증가할 때 패널피만큼 증가하게 되서 안늘리는식으로 업데이트가 될 것임)"
   ]
  },
  {
   "cell_type": "code",
   "execution_count": null,
   "metadata": {},
   "outputs": [],
   "source": []
  }
 ],
 "metadata": {
  "kernelspec": {
   "display_name": "Python 3",
   "language": "python",
   "name": "python3"
  },
  "language_info": {
   "codemirror_mode": {
    "name": "ipython",
    "version": 3
   },
   "file_extension": ".py",
   "mimetype": "text/x-python",
   "name": "python",
   "nbconvert_exporter": "python",
   "pygments_lexer": "ipython3",
   "version": "3.6.5"
  }
 },
 "nbformat": 4,
 "nbformat_minor": 2
}
