{
 "cells": [
  {
   "cell_type": "markdown",
   "metadata": {},
   "source": [
    "Key concepts\n",
    "\n",
    "- Model : 예측을 위한 수학 공식, 함수 1차 방정식, 확률분포, condition rule\n",
    "\n",
    "- Algorithms : 어떠한 문제를 풀기 위한 과정 Model을 생성하기 위한 (훈련) 과정"
   ]
  },
  {
   "cell_type": "markdown",
   "metadata": {},
   "source": [
    "모델을 학습할 때 영향을 주는 것들\n",
    "- y = ax + b\n",
    "- y 주어진 Y값 : 종속변수\n",
    "- x 주어진 X값 : 독립변수\n",
    "- a,b : 알고리즘을 통해 최적값을 찾음"
   ]
  },
  {
   "cell_type": "markdown",
   "metadata": {},
   "source": [
    "Feature\n",
    "- x 변수의 실제 데이터는 특징(feature)을 나타냄 (x 변수는 한개가 아님)\n",
    "- 머신러닝에서 데이터의 특징을 나타내는 변수\n",
    "- feature, 독립변수, input변수 등은 동일의미로 사용\n",
    "- 일반적으로 Table 상에 Data를 표현할 때, Column을 의미\n",
    "- 하나의 data instance(실제 데이터)는 feature vector로 표현"
   ]
  },
  {
   "cell_type": "markdown",
   "metadata": {},
   "source": [
    "- (논문에서) Scalar는 이탤릭체, vector는 소문자 볼드, matrix는 대문자 볼드"
   ]
  },
  {
   "cell_type": "markdown",
   "metadata": {},
   "source": [
    "명칭\n",
    "- Data table, Sample\n",
    "- attribute, field, feature, column\n",
    "- instance, tuple, row\n",
    "- Feature vector\n",
    "- data"
   ]
  },
  {
   "cell_type": "markdown",
   "metadata": {},
   "source": [
    "Pandas\n",
    "- 엑셀처럼 데이터 사용"
   ]
  }
 ],
 "metadata": {
  "kernelspec": {
   "display_name": "Python 3",
   "language": "python",
   "name": "python3"
  },
  "language_info": {
   "codemirror_mode": {
    "name": "ipython",
    "version": 3
   },
   "file_extension": ".py",
   "mimetype": "text/x-python",
   "name": "python",
   "nbconvert_exporter": "python",
   "pygments_lexer": "ipython3",
   "version": "3.6.5"
  }
 },
 "nbformat": 4,
 "nbformat_minor": 2
}
