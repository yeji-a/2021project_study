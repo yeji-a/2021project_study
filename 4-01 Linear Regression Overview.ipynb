{
 "cells": [
  {
   "cell_type": "markdown",
   "metadata": {},
   "source": [
    "### 머신러닝의 학습 방법들\n",
    "- Gradient descent based learning\n",
    "- Probability theory based learning\n",
    "- Information theory based learning\n",
    "- Distance similarity based learning"
   ]
  },
  {
   "cell_type": "markdown",
   "metadata": {},
   "source": [
    "### Gradient descent based learning\n",
    "- 실제 값과 학습된 모델 예측치의 오차를 최소화\n",
    "- 모델의 최적 parameter 찾기가 목적 -> gradient descent 활용"
   ]
  },
  {
   "cell_type": "markdown",
   "metadata": {},
   "source": [
    "### 예측 함수와 실제 값의 오차를 줄여보자!\n",
    "- 오차의 합을 구할 때 상쇄될 수 있으므로 제곱의 합으로 변환"
   ]
  },
  {
   "cell_type": "markdown",
   "metadata": {},
   "source": [
    "### Squared Error를 최소화 할 수 있는 weight값의 발견\n",
    "- 최소 또는 최대의 문제 -> 미분으로 해결하기\n",
    "- 찾고자 하는 값은? W1, W0"
   ]
  }
 ],
 "metadata": {
  "kernelspec": {
   "display_name": "Python 3",
   "language": "python",
   "name": "python3"
  },
  "language_info": {
   "codemirror_mode": {
    "name": "ipython",
    "version": 3
   },
   "file_extension": ".py",
   "mimetype": "text/x-python",
   "name": "python",
   "nbconvert_exporter": "python",
   "pygments_lexer": "ipython3",
   "version": "3.6.5"
  }
 },
 "nbformat": 4,
 "nbformat_minor": 2
}
